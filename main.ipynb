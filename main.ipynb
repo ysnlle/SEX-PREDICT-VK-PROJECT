{
  "nbformat": 4,
  "nbformat_minor": 0,
  "metadata": {
    "colab": {
      "provenance": []
    },
    "kernelspec": {
      "name": "python3",
      "display_name": "Python 3"
    },
    "language_info": {
      "name": "python"
    }
  },
  "cells": [
    {
      "cell_type": "markdown",
      "source": [
        "## Helpers"
      ],
      "metadata": {
        "id": "8GJFgJPt9Tor"
      }
    },
    {
      "cell_type": "markdown",
      "source": [
        "в качестве модели выбрал CatBoost, так как он хорошо работает с категориальными признаками"
      ],
      "metadata": {
        "id": "P1BqG8pI9ByO"
      }
    },
    {
      "cell_type": "code",
      "source": [
        "!pip install catboost"
      ],
      "metadata": {
        "colab": {
          "base_uri": "https://localhost:8080/"
        },
        "collapsed": true,
        "id": "cZWWXZrOIiMt",
        "outputId": "47a1c6c0-46b1-4afc-da1b-a6d5137d6bc6"
      },
      "execution_count": 10,
      "outputs": [
        {
          "output_type": "stream",
          "name": "stdout",
          "text": [
            "Requirement already satisfied: catboost in /usr/local/lib/python3.11/dist-packages (1.2.8)\n",
            "Requirement already satisfied: graphviz in /usr/local/lib/python3.11/dist-packages (from catboost) (0.21)\n",
            "Requirement already satisfied: matplotlib in /usr/local/lib/python3.11/dist-packages (from catboost) (3.10.0)\n",
            "Requirement already satisfied: numpy<3.0,>=1.16.0 in /usr/local/lib/python3.11/dist-packages (from catboost) (2.0.2)\n",
            "Requirement already satisfied: pandas>=0.24 in /usr/local/lib/python3.11/dist-packages (from catboost) (2.2.2)\n",
            "Requirement already satisfied: scipy in /usr/local/lib/python3.11/dist-packages (from catboost) (1.16.1)\n",
            "Requirement already satisfied: plotly in /usr/local/lib/python3.11/dist-packages (from catboost) (5.24.1)\n",
            "Requirement already satisfied: six in /usr/local/lib/python3.11/dist-packages (from catboost) (1.17.0)\n",
            "Requirement already satisfied: python-dateutil>=2.8.2 in /usr/local/lib/python3.11/dist-packages (from pandas>=0.24->catboost) (2.9.0.post0)\n",
            "Requirement already satisfied: pytz>=2020.1 in /usr/local/lib/python3.11/dist-packages (from pandas>=0.24->catboost) (2025.2)\n",
            "Requirement already satisfied: tzdata>=2022.7 in /usr/local/lib/python3.11/dist-packages (from pandas>=0.24->catboost) (2025.2)\n",
            "Requirement already satisfied: contourpy>=1.0.1 in /usr/local/lib/python3.11/dist-packages (from matplotlib->catboost) (1.3.3)\n",
            "Requirement already satisfied: cycler>=0.10 in /usr/local/lib/python3.11/dist-packages (from matplotlib->catboost) (0.12.1)\n",
            "Requirement already satisfied: fonttools>=4.22.0 in /usr/local/lib/python3.11/dist-packages (from matplotlib->catboost) (4.59.0)\n",
            "Requirement already satisfied: kiwisolver>=1.3.1 in /usr/local/lib/python3.11/dist-packages (from matplotlib->catboost) (1.4.9)\n",
            "Requirement already satisfied: packaging>=20.0 in /usr/local/lib/python3.11/dist-packages (from matplotlib->catboost) (25.0)\n",
            "Requirement already satisfied: pillow>=8 in /usr/local/lib/python3.11/dist-packages (from matplotlib->catboost) (11.3.0)\n",
            "Requirement already satisfied: pyparsing>=2.3.1 in /usr/local/lib/python3.11/dist-packages (from matplotlib->catboost) (3.2.3)\n",
            "Requirement already satisfied: tenacity>=6.2.0 in /usr/local/lib/python3.11/dist-packages (from plotly->catboost) (9.1.2)\n"
          ]
        }
      ]
    },
    {
      "cell_type": "code",
      "source": [
        "import pandas as pd\n",
        "import numpy as np\n",
        "from sklearn.model_selection import train_test_split\n",
        "from sklearn.ensemble import RandomForestClassifier\n",
        "from sklearn.metrics import accuracy_score, classification_report, f1_score, roc_auc_score\n",
        "import json\n",
        "from ast import literal_eval\n",
        "from sklearn.model_selection import train_test_split\n",
        "from catboost import CatBoostClassifier"
      ],
      "metadata": {
        "id": "gjmWLz4b7zkZ"
      },
      "execution_count": 52,
      "outputs": []
    },
    {
      "cell_type": "code",
      "source": [
        "def parse_user_agent(ua_str):\n",
        "    try:\n",
        "        ua_dict = literal_eval(ua_str)\n",
        "        return pd.Series({\n",
        "            'browser': ua_dict.get('browser', 'unknown'),\n",
        "            'browser_version': ua_dict.get('browser_version', 'unknown'),\n",
        "            'os': ua_dict.get('os', 'unknown'),\n",
        "            'os_version': ua_dict.get('os_version', 'unknown')\n",
        "        })\n",
        "    except:\n",
        "        return pd.Series({\n",
        "            'browser': 'unknown',\n",
        "            'browser_version': 'unknown',\n",
        "            'os': 'unknown',\n",
        "            'os_version': 'unknown'\n",
        "        })\n",
        "\n",
        "def user_agent_opener(df: pd.DataFrame):\n",
        "  ua_features = df['user_agent'].apply(parse_user_agent)\n",
        "  df = pd.concat([df, ua_features], axis=1)\n",
        "  return df\n",
        "\n",
        "def merger(df: pd.DataFrame, geo_info: pd.DataFrame, referer_vectors: pd.DataFrame, df_labels=0):\n",
        "  if isinstance(df_labels, pd.DataFrame):\n",
        "    data = df.merge(referer_vectors, on='referer', how='left')\n",
        "    data = data.merge(geo_info, on='geo_id', how='left')\n",
        "    data = data.merge(df_labels, on='user_id', how='inner')\n",
        "\n",
        "  else:\n",
        "    data = df.merge(referer_vectors, on='referer', how='left')\n",
        "    data = data.merge(geo_info, on='geo_id')\n",
        "\n",
        "  return data"
      ],
      "metadata": {
        "id": "Wz9viw3J9Xdn"
      },
      "execution_count": 12,
      "outputs": []
    },
    {
      "cell_type": "markdown",
      "source": [
        "сразу открою referer_vectors и geo_info, так как они понадобятся и в части train и в части predict"
      ],
      "metadata": {
        "id": "4LcJxOIm-RGu"
      }
    },
    {
      "cell_type": "code",
      "source": [
        "referer_vectors = pd.read_csv('/content/drive/MyDrive/Colab Notebooks/vk_predict_sex/referer_vectors.csv', sep=';')\n",
        "geo_info = pd.read_csv('/content/drive/MyDrive/Colab Notebooks/vk_predict_sex/geo_info.csv', sep=';')"
      ],
      "metadata": {
        "id": "KJyUPLj49lfa"
      },
      "execution_count": 13,
      "outputs": []
    },
    {
      "cell_type": "markdown",
      "source": [
        "в geo_info в столбце region_id много пропусков, поэтому я решил просто удалить этот столбец\n",
        "\n",
        "в referer_vectors в столбце referer присутствуют дубликаты, причем componentX в этих строках одинаковы, поэтому я удаляю дубликаты по referer"
      ],
      "metadata": {
        "id": "cLov23fr9rOo"
      }
    },
    {
      "cell_type": "code",
      "source": [
        "geo_info = geo_info.drop('region_id', axis=1)\n",
        "referer_vectors = referer_vectors.drop_duplicates(subset='referer')"
      ],
      "metadata": {
        "id": "JnIAEB-K9n0O"
      },
      "execution_count": 14,
      "outputs": []
    },
    {
      "cell_type": "markdown",
      "source": [
        "---"
      ],
      "metadata": {
        "id": "15kzEN_SB2us"
      }
    },
    {
      "cell_type": "markdown",
      "source": [
        "## Train"
      ],
      "metadata": {
        "id": "Kv5NFNzE9X5a"
      }
    },
    {
      "cell_type": "code",
      "source": [
        "train_labels = pd.read_csv('/content/drive/MyDrive/Colab Notebooks/vk_predict_sex/train_labels.csv', sep=';')\n",
        "train = pd.read_csv('/content/drive/MyDrive/Colab Notebooks/vk_predict_sex/train.csv', sep=';')"
      ],
      "metadata": {
        "id": "TWzJ2DRRSSR3"
      },
      "execution_count": 15,
      "outputs": []
    },
    {
      "cell_type": "markdown",
      "source": [
        "в таблице train в столбце user_agent данные находятся в виде словаря, поэтому их необходимо \"открыть\"\n",
        "\n",
        "для этого использую функцию user_agent_opener"
      ],
      "metadata": {
        "id": "JilAKj_u-sVF"
      }
    },
    {
      "cell_type": "code",
      "source": [
        "train = user_agent_opener(train)"
      ],
      "metadata": {
        "id": "DmYFQXpW_CjQ"
      },
      "execution_count": 16,
      "outputs": []
    },
    {
      "cell_type": "markdown",
      "source": [
        "далее необходимо объеденить все таблицы, для получения фичей\n",
        "\n",
        "для этого использую заранее подготовленную функцию merger"
      ],
      "metadata": {
        "id": "VR83QrDa_Ohx"
      }
    },
    {
      "cell_type": "code",
      "source": [
        "data = merger(train, geo_info, referer_vectors, train_labels)"
      ],
      "metadata": {
        "id": "sIh6xSLY_VYU"
      },
      "execution_count": 17,
      "outputs": []
    },
    {
      "cell_type": "markdown",
      "source": [
        "выделяю категориальные и числовые фичи"
      ],
      "metadata": {
        "id": "8TJjt7Rc_yAs"
      }
    },
    {
      "cell_type": "code",
      "source": [
        "cat_cols = ['browser','browser_version','os','os_version','country_id', 'timezone_id']\n",
        "num_cols = [f'component{x}' for x in range(1, 10)]"
      ],
      "metadata": {
        "id": "RUlle6wN_17m"
      },
      "execution_count": 18,
      "outputs": []
    },
    {
      "cell_type": "markdown",
      "source": [
        "выделяю таблицу фичей"
      ],
      "metadata": {
        "id": "bpGPmkpmAOBc"
      }
    },
    {
      "cell_type": "code",
      "source": [
        "data = data[['user_id'] + num_cols + cat_cols + ['target']]"
      ],
      "metadata": {
        "id": "KjJB-MqoGrrP"
      },
      "execution_count": 24,
      "outputs": []
    },
    {
      "cell_type": "code",
      "source": [
        "X = data.drop(['user_id', 'target'], axis=1)"
      ],
      "metadata": {
        "id": "nAS4apYgAQK8"
      },
      "execution_count": 26,
      "outputs": []
    },
    {
      "cell_type": "markdown",
      "source": [
        "далее разбиваю данные на обучающую и валидационную часть и выделяю целевую переменную"
      ],
      "metadata": {
        "id": "BJTppOTLAUw3"
      }
    },
    {
      "cell_type": "code",
      "source": [
        "X_train, X_test, y_train, y_test = train_test_split(X, data['target'], test_size=0.2)"
      ],
      "metadata": {
        "id": "YOCTCc-fAfr2"
      },
      "execution_count": 28,
      "outputs": []
    },
    {
      "cell_type": "markdown",
      "source": [
        "после обучаю модель с помощью CatBoost"
      ],
      "metadata": {
        "id": "HZ0gxwr_A3kv"
      }
    },
    {
      "cell_type": "code",
      "source": [
        "ctb = CatBoostClassifier(iterations=441, learning_rate=0.1, depth=8)\n",
        "ctb.fit(X_train, y_train, cat_features=cat_cols)"
      ],
      "metadata": {
        "colab": {
          "base_uri": "https://localhost:8080/"
        },
        "collapsed": true,
        "id": "0WelAA1gBIiH",
        "outputId": "6723d5fb-8968-448b-cbba-0501024a6cf5"
      },
      "execution_count": 34,
      "outputs": [
        {
          "output_type": "stream",
          "name": "stdout",
          "text": [
            "0:\tlearn: 0.6629796\ttotal: 1.5s\tremaining: 10m 58s\n",
            "1:\tlearn: 0.6386875\ttotal: 3.32s\tremaining: 12m 9s\n",
            "2:\tlearn: 0.6192545\ttotal: 5.8s\tremaining: 14m 7s\n",
            "3:\tlearn: 0.6033418\ttotal: 8.02s\tremaining: 14m 36s\n",
            "4:\tlearn: 0.5899949\ttotal: 9.31s\tremaining: 13m 31s\n",
            "5:\tlearn: 0.5773083\ttotal: 10.6s\tremaining: 12m 44s\n",
            "6:\tlearn: 0.5682805\ttotal: 11.7s\tremaining: 12m 5s\n",
            "7:\tlearn: 0.5604568\ttotal: 13.2s\tremaining: 11m 52s\n",
            "8:\tlearn: 0.5527886\ttotal: 15.6s\tremaining: 12m 28s\n",
            "9:\tlearn: 0.5461992\ttotal: 17.3s\tremaining: 12m 26s\n",
            "10:\tlearn: 0.5406908\ttotal: 20.3s\tremaining: 13m 11s\n",
            "11:\tlearn: 0.5364493\ttotal: 22.7s\tremaining: 13m 32s\n",
            "12:\tlearn: 0.5331653\ttotal: 24.2s\tremaining: 13m 17s\n",
            "13:\tlearn: 0.5288267\ttotal: 25.6s\tremaining: 13m\n",
            "14:\tlearn: 0.5251911\ttotal: 26.8s\tremaining: 12m 42s\n",
            "15:\tlearn: 0.5222840\ttotal: 28.6s\tremaining: 12m 39s\n",
            "16:\tlearn: 0.5204244\ttotal: 29.9s\tremaining: 12m 26s\n",
            "17:\tlearn: 0.5180588\ttotal: 31.1s\tremaining: 12m 10s\n",
            "18:\tlearn: 0.5155464\ttotal: 32.3s\tremaining: 11m 57s\n",
            "19:\tlearn: 0.5133539\ttotal: 34s\tremaining: 11m 55s\n",
            "20:\tlearn: 0.5115784\ttotal: 36.4s\tremaining: 12m 8s\n",
            "21:\tlearn: 0.5097120\ttotal: 38.6s\tremaining: 12m 16s\n",
            "22:\tlearn: 0.5076191\ttotal: 40s\tremaining: 12m 7s\n",
            "23:\tlearn: 0.5056832\ttotal: 41.4s\tremaining: 11m 58s\n",
            "24:\tlearn: 0.5044522\ttotal: 42.7s\tremaining: 11m 51s\n",
            "25:\tlearn: 0.5036987\ttotal: 44.1s\tremaining: 11m 43s\n",
            "26:\tlearn: 0.5023915\ttotal: 45.3s\tremaining: 11m 34s\n",
            "27:\tlearn: 0.5014071\ttotal: 46.7s\tremaining: 11m 28s\n",
            "28:\tlearn: 0.5003631\ttotal: 48.1s\tremaining: 11m 22s\n",
            "29:\tlearn: 0.4993783\ttotal: 50.1s\tremaining: 11m 25s\n",
            "30:\tlearn: 0.4988515\ttotal: 52.6s\tremaining: 11m 35s\n",
            "31:\tlearn: 0.4977775\ttotal: 54.4s\tremaining: 11m 35s\n",
            "32:\tlearn: 0.4971530\ttotal: 55.8s\tremaining: 11m 29s\n",
            "33:\tlearn: 0.4963146\ttotal: 57.2s\tremaining: 11m 24s\n",
            "34:\tlearn: 0.4953913\ttotal: 58.4s\tremaining: 11m 17s\n",
            "35:\tlearn: 0.4945781\ttotal: 59.6s\tremaining: 11m 10s\n",
            "36:\tlearn: 0.4941789\ttotal: 1m\tremaining: 11m 3s\n",
            "37:\tlearn: 0.4936692\ttotal: 1m 2s\tremaining: 10m 58s\n",
            "38:\tlearn: 0.4930460\ttotal: 1m 3s\tremaining: 10m 51s\n",
            "39:\tlearn: 0.4924285\ttotal: 1m 4s\tremaining: 10m 44s\n",
            "40:\tlearn: 0.4920352\ttotal: 1m 6s\tremaining: 10m 47s\n",
            "41:\tlearn: 0.4911851\ttotal: 1m 9s\tremaining: 11m 2s\n",
            "42:\tlearn: 0.4908765\ttotal: 1m 11s\tremaining: 10m 59s\n",
            "43:\tlearn: 0.4905218\ttotal: 1m 12s\tremaining: 10m 54s\n",
            "44:\tlearn: 0.4900103\ttotal: 1m 13s\tremaining: 10m 49s\n",
            "45:\tlearn: 0.4894418\ttotal: 1m 15s\tremaining: 10m 45s\n",
            "46:\tlearn: 0.4890183\ttotal: 1m 16s\tremaining: 10m 42s\n",
            "47:\tlearn: 0.4885331\ttotal: 1m 17s\tremaining: 10m 36s\n",
            "48:\tlearn: 0.4881793\ttotal: 1m 18s\tremaining: 10m 31s\n",
            "49:\tlearn: 0.4878374\ttotal: 1m 19s\tremaining: 10m 25s\n",
            "50:\tlearn: 0.4874330\ttotal: 1m 22s\tremaining: 10m 31s\n",
            "51:\tlearn: 0.4871031\ttotal: 1m 25s\tremaining: 10m 36s\n",
            "52:\tlearn: 0.4866352\ttotal: 1m 26s\tremaining: 10m 32s\n",
            "53:\tlearn: 0.4859945\ttotal: 1m 27s\tremaining: 10m 29s\n",
            "54:\tlearn: 0.4856946\ttotal: 1m 28s\tremaining: 10m 24s\n",
            "55:\tlearn: 0.4852957\ttotal: 1m 30s\tremaining: 10m 20s\n",
            "56:\tlearn: 0.4847056\ttotal: 1m 31s\tremaining: 10m 17s\n",
            "57:\tlearn: 0.4840949\ttotal: 1m 33s\tremaining: 10m 14s\n",
            "58:\tlearn: 0.4834838\ttotal: 1m 34s\tremaining: 10m 11s\n",
            "59:\tlearn: 0.4831793\ttotal: 1m 36s\tremaining: 10m 12s\n",
            "60:\tlearn: 0.4827795\ttotal: 1m 38s\tremaining: 10m 13s\n",
            "61:\tlearn: 0.4821953\ttotal: 1m 40s\tremaining: 10m 15s\n",
            "62:\tlearn: 0.4817919\ttotal: 1m 41s\tremaining: 10m 11s\n",
            "63:\tlearn: 0.4813367\ttotal: 1m 43s\tremaining: 10m 8s\n",
            "64:\tlearn: 0.4808925\ttotal: 1m 44s\tremaining: 10m 5s\n",
            "65:\tlearn: 0.4803039\ttotal: 1m 45s\tremaining: 10m 1s\n",
            "66:\tlearn: 0.4801220\ttotal: 1m 47s\tremaining: 9m 58s\n",
            "67:\tlearn: 0.4797565\ttotal: 1m 48s\tremaining: 9m 55s\n",
            "68:\tlearn: 0.4794128\ttotal: 1m 49s\tremaining: 9m 52s\n",
            "69:\tlearn: 0.4791419\ttotal: 1m 51s\tremaining: 9m 52s\n",
            "70:\tlearn: 0.4787831\ttotal: 1m 54s\tremaining: 9m 54s\n",
            "71:\tlearn: 0.4784107\ttotal: 1m 56s\tremaining: 9m 55s\n",
            "72:\tlearn: 0.4781152\ttotal: 1m 57s\tremaining: 9m 52s\n",
            "73:\tlearn: 0.4779068\ttotal: 1m 58s\tremaining: 9m 49s\n",
            "74:\tlearn: 0.4775972\ttotal: 1m 59s\tremaining: 9m 45s\n",
            "75:\tlearn: 0.4772977\ttotal: 2m 1s\tremaining: 9m 42s\n",
            "76:\tlearn: 0.4768679\ttotal: 2m 2s\tremaining: 9m 40s\n",
            "77:\tlearn: 0.4766782\ttotal: 2m 3s\tremaining: 9m 36s\n",
            "78:\tlearn: 0.4765499\ttotal: 2m 5s\tremaining: 9m 33s\n",
            "79:\tlearn: 0.4762617\ttotal: 2m 8s\tremaining: 9m 37s\n",
            "80:\tlearn: 0.4759830\ttotal: 2m 10s\tremaining: 9m 40s\n",
            "81:\tlearn: 0.4758392\ttotal: 2m 12s\tremaining: 9m 39s\n",
            "82:\tlearn: 0.4755367\ttotal: 2m 13s\tremaining: 9m 36s\n",
            "83:\tlearn: 0.4753485\ttotal: 2m 14s\tremaining: 9m 33s\n",
            "84:\tlearn: 0.4750698\ttotal: 2m 16s\tremaining: 9m 30s\n",
            "85:\tlearn: 0.4747534\ttotal: 2m 17s\tremaining: 9m 27s\n",
            "86:\tlearn: 0.4744923\ttotal: 2m 18s\tremaining: 9m 23s\n",
            "87:\tlearn: 0.4740324\ttotal: 2m 19s\tremaining: 9m 20s\n",
            "88:\tlearn: 0.4736867\ttotal: 2m 20s\tremaining: 9m 17s\n",
            "89:\tlearn: 0.4735732\ttotal: 2m 22s\tremaining: 9m 16s\n",
            "90:\tlearn: 0.4733169\ttotal: 2m 24s\tremaining: 9m 17s\n",
            "91:\tlearn: 0.4731386\ttotal: 2m 27s\tremaining: 9m 18s\n",
            "92:\tlearn: 0.4729250\ttotal: 2m 28s\tremaining: 9m 15s\n",
            "93:\tlearn: 0.4726432\ttotal: 2m 29s\tremaining: 9m 11s\n",
            "94:\tlearn: 0.4724290\ttotal: 2m 30s\tremaining: 9m 9s\n",
            "95:\tlearn: 0.4721543\ttotal: 2m 31s\tremaining: 9m 6s\n",
            "96:\tlearn: 0.4719089\ttotal: 2m 33s\tremaining: 9m 3s\n",
            "97:\tlearn: 0.4716969\ttotal: 2m 34s\tremaining: 9m\n",
            "98:\tlearn: 0.4716001\ttotal: 2m 35s\tremaining: 8m 56s\n",
            "99:\tlearn: 0.4713999\ttotal: 2m 36s\tremaining: 8m 54s\n",
            "100:\tlearn: 0.4712714\ttotal: 2m 38s\tremaining: 8m 53s\n",
            "101:\tlearn: 0.4711510\ttotal: 2m 40s\tremaining: 8m 53s\n",
            "102:\tlearn: 0.4708974\ttotal: 2m 42s\tremaining: 8m 54s\n",
            "103:\tlearn: 0.4707573\ttotal: 2m 43s\tremaining: 8m 50s\n",
            "104:\tlearn: 0.4706401\ttotal: 2m 44s\tremaining: 8m 46s\n",
            "105:\tlearn: 0.4704339\ttotal: 2m 45s\tremaining: 8m 44s\n",
            "106:\tlearn: 0.4701891\ttotal: 2m 47s\tremaining: 8m 42s\n",
            "107:\tlearn: 0.4699286\ttotal: 2m 48s\tremaining: 8m 39s\n",
            "108:\tlearn: 0.4695966\ttotal: 2m 49s\tremaining: 8m 37s\n",
            "109:\tlearn: 0.4694380\ttotal: 2m 50s\tremaining: 8m 34s\n",
            "110:\tlearn: 0.4692432\ttotal: 2m 52s\tremaining: 8m 32s\n",
            "111:\tlearn: 0.4690281\ttotal: 2m 54s\tremaining: 8m 31s\n",
            "112:\tlearn: 0.4686446\ttotal: 2m 56s\tremaining: 8m 31s\n",
            "113:\tlearn: 0.4683775\ttotal: 2m 58s\tremaining: 8m 31s\n",
            "114:\tlearn: 0.4681434\ttotal: 2m 59s\tremaining: 8m 29s\n",
            "115:\tlearn: 0.4679714\ttotal: 3m 1s\tremaining: 8m 27s\n",
            "116:\tlearn: 0.4677831\ttotal: 3m 2s\tremaining: 8m 25s\n",
            "117:\tlearn: 0.4675728\ttotal: 3m 3s\tremaining: 8m 22s\n",
            "118:\tlearn: 0.4673322\ttotal: 3m 4s\tremaining: 8m 20s\n",
            "119:\tlearn: 0.4671214\ttotal: 3m 6s\tremaining: 8m 17s\n",
            "120:\tlearn: 0.4667922\ttotal: 3m 7s\tremaining: 8m 15s\n",
            "121:\tlearn: 0.4665783\ttotal: 3m 9s\tremaining: 8m 14s\n",
            "122:\tlearn: 0.4663709\ttotal: 3m 11s\tremaining: 8m 15s\n",
            "123:\tlearn: 0.4661053\ttotal: 3m 13s\tremaining: 8m 15s\n",
            "124:\tlearn: 0.4658608\ttotal: 3m 14s\tremaining: 8m 12s\n",
            "125:\tlearn: 0.4655904\ttotal: 3m 16s\tremaining: 8m 10s\n",
            "126:\tlearn: 0.4654453\ttotal: 3m 17s\tremaining: 8m 8s\n",
            "127:\tlearn: 0.4652381\ttotal: 3m 18s\tremaining: 8m 6s\n",
            "128:\tlearn: 0.4650070\ttotal: 3m 20s\tremaining: 8m 4s\n",
            "129:\tlearn: 0.4646796\ttotal: 3m 21s\tremaining: 8m 2s\n",
            "130:\tlearn: 0.4645146\ttotal: 3m 22s\tremaining: 7m 59s\n",
            "131:\tlearn: 0.4644079\ttotal: 3m 24s\tremaining: 7m 58s\n",
            "132:\tlearn: 0.4641799\ttotal: 3m 26s\tremaining: 7m 59s\n",
            "133:\tlearn: 0.4639848\ttotal: 3m 28s\tremaining: 7m 58s\n",
            "134:\tlearn: 0.4637502\ttotal: 3m 30s\tremaining: 7m 56s\n",
            "135:\tlearn: 0.4635679\ttotal: 3m 31s\tremaining: 7m 54s\n",
            "136:\tlearn: 0.4632779\ttotal: 3m 32s\tremaining: 7m 51s\n",
            "137:\tlearn: 0.4630570\ttotal: 3m 33s\tremaining: 7m 49s\n",
            "138:\tlearn: 0.4628470\ttotal: 3m 35s\tremaining: 7m 47s\n",
            "139:\tlearn: 0.4626712\ttotal: 3m 36s\tremaining: 7m 45s\n",
            "140:\tlearn: 0.4625731\ttotal: 3m 37s\tremaining: 7m 43s\n",
            "141:\tlearn: 0.4624617\ttotal: 3m 39s\tremaining: 7m 41s\n",
            "142:\tlearn: 0.4622874\ttotal: 3m 41s\tremaining: 7m 41s\n",
            "143:\tlearn: 0.4620552\ttotal: 3m 44s\tremaining: 7m 42s\n",
            "144:\tlearn: 0.4618949\ttotal: 3m 45s\tremaining: 7m 40s\n",
            "145:\tlearn: 0.4617524\ttotal: 3m 47s\tremaining: 7m 38s\n",
            "146:\tlearn: 0.4615163\ttotal: 3m 48s\tremaining: 7m 36s\n",
            "147:\tlearn: 0.4612615\ttotal: 3m 49s\tremaining: 7m 34s\n",
            "148:\tlearn: 0.4610425\ttotal: 3m 51s\tremaining: 7m 32s\n",
            "149:\tlearn: 0.4608547\ttotal: 3m 52s\tremaining: 7m 30s\n",
            "150:\tlearn: 0.4607216\ttotal: 3m 53s\tremaining: 7m 28s\n",
            "151:\tlearn: 0.4605181\ttotal: 3m 54s\tremaining: 7m 26s\n",
            "152:\tlearn: 0.4603797\ttotal: 3m 56s\tremaining: 7m 25s\n",
            "153:\tlearn: 0.4602019\ttotal: 3m 59s\tremaining: 7m 25s\n",
            "154:\tlearn: 0.4600219\ttotal: 4m\tremaining: 7m 24s\n",
            "155:\tlearn: 0.4598480\ttotal: 4m 2s\tremaining: 7m 22s\n",
            "156:\tlearn: 0.4596842\ttotal: 4m 2s\tremaining: 7m 19s\n",
            "157:\tlearn: 0.4595290\ttotal: 4m 4s\tremaining: 7m 17s\n",
            "158:\tlearn: 0.4594050\ttotal: 4m 5s\tremaining: 7m 15s\n",
            "159:\tlearn: 0.4592607\ttotal: 4m 6s\tremaining: 7m 13s\n",
            "160:\tlearn: 0.4591226\ttotal: 4m 7s\tremaining: 7m 11s\n",
            "161:\tlearn: 0.4588643\ttotal: 4m 9s\tremaining: 7m 9s\n",
            "162:\tlearn: 0.4586799\ttotal: 4m 10s\tremaining: 7m 7s\n",
            "163:\tlearn: 0.4585332\ttotal: 4m 12s\tremaining: 7m 7s\n",
            "164:\tlearn: 0.4583757\ttotal: 4m 15s\tremaining: 7m 6s\n",
            "165:\tlearn: 0.4582511\ttotal: 4m 16s\tremaining: 7m 5s\n",
            "166:\tlearn: 0.4580981\ttotal: 4m 18s\tremaining: 7m 3s\n",
            "167:\tlearn: 0.4579106\ttotal: 4m 19s\tremaining: 7m 1s\n",
            "168:\tlearn: 0.4577926\ttotal: 4m 20s\tremaining: 6m 59s\n",
            "169:\tlearn: 0.4577119\ttotal: 4m 21s\tremaining: 6m 57s\n",
            "170:\tlearn: 0.4576312\ttotal: 4m 22s\tremaining: 6m 54s\n",
            "171:\tlearn: 0.4574991\ttotal: 4m 24s\tremaining: 6m 52s\n",
            "172:\tlearn: 0.4573893\ttotal: 4m 25s\tremaining: 6m 51s\n",
            "173:\tlearn: 0.4572044\ttotal: 4m 27s\tremaining: 6m 50s\n",
            "174:\tlearn: 0.4570428\ttotal: 4m 29s\tremaining: 6m 50s\n",
            "175:\tlearn: 0.4568926\ttotal: 4m 31s\tremaining: 6m 49s\n",
            "176:\tlearn: 0.4567039\ttotal: 4m 33s\tremaining: 6m 47s\n",
            "177:\tlearn: 0.4565389\ttotal: 4m 34s\tremaining: 6m 45s\n",
            "178:\tlearn: 0.4563987\ttotal: 4m 35s\tremaining: 6m 43s\n",
            "179:\tlearn: 0.4563324\ttotal: 4m 37s\tremaining: 6m 41s\n",
            "180:\tlearn: 0.4562195\ttotal: 4m 38s\tremaining: 6m 39s\n",
            "181:\tlearn: 0.4560437\ttotal: 4m 39s\tremaining: 6m 38s\n",
            "182:\tlearn: 0.4559436\ttotal: 4m 40s\tremaining: 6m 35s\n",
            "183:\tlearn: 0.4558725\ttotal: 4m 42s\tremaining: 6m 34s\n",
            "184:\tlearn: 0.4556779\ttotal: 4m 44s\tremaining: 6m 33s\n",
            "185:\tlearn: 0.4555409\ttotal: 4m 46s\tremaining: 6m 32s\n",
            "186:\tlearn: 0.4554465\ttotal: 4m 47s\tremaining: 6m 31s\n",
            "187:\tlearn: 0.4553640\ttotal: 4m 49s\tremaining: 6m 29s\n",
            "188:\tlearn: 0.4551714\ttotal: 4m 50s\tremaining: 6m 27s\n",
            "189:\tlearn: 0.4550793\ttotal: 4m 51s\tremaining: 6m 25s\n",
            "190:\tlearn: 0.4549738\ttotal: 4m 52s\tremaining: 6m 23s\n",
            "191:\tlearn: 0.4548401\ttotal: 4m 54s\tremaining: 6m 21s\n",
            "192:\tlearn: 0.4547296\ttotal: 4m 55s\tremaining: 6m 19s\n",
            "193:\tlearn: 0.4545833\ttotal: 4m 56s\tremaining: 6m 17s\n",
            "194:\tlearn: 0.4544635\ttotal: 4m 58s\tremaining: 6m 16s\n",
            "195:\tlearn: 0.4544132\ttotal: 5m\tremaining: 6m 15s\n",
            "196:\tlearn: 0.4543227\ttotal: 5m 2s\tremaining: 6m 14s\n",
            "197:\tlearn: 0.4541301\ttotal: 5m 3s\tremaining: 6m 12s\n",
            "198:\tlearn: 0.4539974\ttotal: 5m 5s\tremaining: 6m 10s\n",
            "199:\tlearn: 0.4538885\ttotal: 5m 6s\tremaining: 6m 9s\n",
            "200:\tlearn: 0.4538119\ttotal: 5m 7s\tremaining: 6m 7s\n",
            "201:\tlearn: 0.4536878\ttotal: 5m 8s\tremaining: 6m 5s\n",
            "202:\tlearn: 0.4535307\ttotal: 5m 10s\tremaining: 6m 3s\n",
            "203:\tlearn: 0.4533956\ttotal: 5m 11s\tremaining: 6m 1s\n",
            "204:\tlearn: 0.4533206\ttotal: 5m 12s\tremaining: 5m 59s\n",
            "205:\tlearn: 0.4532063\ttotal: 5m 15s\tremaining: 5m 59s\n",
            "206:\tlearn: 0.4531043\ttotal: 5m 17s\tremaining: 5m 58s\n",
            "207:\tlearn: 0.4529753\ttotal: 5m 18s\tremaining: 5m 56s\n",
            "208:\tlearn: 0.4529053\ttotal: 5m 19s\tremaining: 5m 54s\n",
            "209:\tlearn: 0.4528038\ttotal: 5m 20s\tremaining: 5m 52s\n",
            "210:\tlearn: 0.4526819\ttotal: 5m 22s\tremaining: 5m 51s\n",
            "211:\tlearn: 0.4524540\ttotal: 5m 23s\tremaining: 5m 49s\n",
            "212:\tlearn: 0.4523272\ttotal: 5m 24s\tremaining: 5m 47s\n",
            "213:\tlearn: 0.4521596\ttotal: 5m 25s\tremaining: 5m 45s\n",
            "214:\tlearn: 0.4520285\ttotal: 5m 26s\tremaining: 5m 43s\n",
            "215:\tlearn: 0.4519693\ttotal: 5m 28s\tremaining: 5m 41s\n",
            "216:\tlearn: 0.4518622\ttotal: 5m 30s\tremaining: 5m 41s\n",
            "217:\tlearn: 0.4517006\ttotal: 5m 32s\tremaining: 5m 40s\n",
            "218:\tlearn: 0.4516027\ttotal: 5m 34s\tremaining: 5m 39s\n",
            "219:\tlearn: 0.4514790\ttotal: 5m 35s\tremaining: 5m 37s\n",
            "220:\tlearn: 0.4513827\ttotal: 5m 36s\tremaining: 5m 35s\n",
            "221:\tlearn: 0.4512462\ttotal: 5m 38s\tremaining: 5m 33s\n",
            "222:\tlearn: 0.4511430\ttotal: 5m 39s\tremaining: 5m 31s\n",
            "223:\tlearn: 0.4510415\ttotal: 5m 40s\tremaining: 5m 29s\n",
            "224:\tlearn: 0.4509600\ttotal: 5m 41s\tremaining: 5m 27s\n",
            "225:\tlearn: 0.4508173\ttotal: 5m 42s\tremaining: 5m 26s\n",
            "226:\tlearn: 0.4507230\ttotal: 5m 44s\tremaining: 5m 24s\n",
            "227:\tlearn: 0.4506723\ttotal: 5m 46s\tremaining: 5m 23s\n",
            "228:\tlearn: 0.4505489\ttotal: 5m 48s\tremaining: 5m 22s\n",
            "229:\tlearn: 0.4504329\ttotal: 5m 49s\tremaining: 5m 21s\n",
            "230:\tlearn: 0.4503171\ttotal: 5m 51s\tremaining: 5m 19s\n",
            "231:\tlearn: 0.4501823\ttotal: 5m 52s\tremaining: 5m 17s\n",
            "232:\tlearn: 0.4500739\ttotal: 5m 53s\tremaining: 5m 15s\n",
            "233:\tlearn: 0.4500180\ttotal: 5m 55s\tremaining: 5m 14s\n",
            "234:\tlearn: 0.4499483\ttotal: 5m 56s\tremaining: 5m 12s\n",
            "235:\tlearn: 0.4498629\ttotal: 5m 57s\tremaining: 5m 10s\n",
            "236:\tlearn: 0.4497892\ttotal: 5m 58s\tremaining: 5m 8s\n",
            "237:\tlearn: 0.4497056\ttotal: 6m\tremaining: 5m 7s\n",
            "238:\tlearn: 0.4496867\ttotal: 6m 2s\tremaining: 5m 6s\n",
            "239:\tlearn: 0.4496124\ttotal: 6m 4s\tremaining: 5m 5s\n",
            "240:\tlearn: 0.4495168\ttotal: 6m 5s\tremaining: 5m 3s\n",
            "241:\tlearn: 0.4494207\ttotal: 6m 7s\tremaining: 5m 1s\n",
            "242:\tlearn: 0.4493044\ttotal: 6m 8s\tremaining: 5m\n",
            "243:\tlearn: 0.4492047\ttotal: 6m 9s\tremaining: 4m 58s\n",
            "244:\tlearn: 0.4491120\ttotal: 6m 11s\tremaining: 4m 56s\n",
            "245:\tlearn: 0.4490024\ttotal: 6m 12s\tremaining: 4m 55s\n",
            "246:\tlearn: 0.4489528\ttotal: 6m 13s\tremaining: 4m 53s\n",
            "247:\tlearn: 0.4488906\ttotal: 6m 15s\tremaining: 4m 51s\n",
            "248:\tlearn: 0.4487725\ttotal: 6m 17s\tremaining: 4m 50s\n",
            "249:\tlearn: 0.4487039\ttotal: 6m 19s\tremaining: 4m 49s\n",
            "250:\tlearn: 0.4486559\ttotal: 6m 20s\tremaining: 4m 48s\n",
            "251:\tlearn: 0.4485876\ttotal: 6m 21s\tremaining: 4m 46s\n",
            "252:\tlearn: 0.4485193\ttotal: 6m 23s\tremaining: 4m 44s\n",
            "253:\tlearn: 0.4484038\ttotal: 6m 24s\tremaining: 4m 43s\n",
            "254:\tlearn: 0.4482851\ttotal: 6m 25s\tremaining: 4m 41s\n",
            "255:\tlearn: 0.4482178\ttotal: 6m 27s\tremaining: 4m 39s\n",
            "256:\tlearn: 0.4481247\ttotal: 6m 28s\tremaining: 4m 38s\n",
            "257:\tlearn: 0.4480550\ttotal: 6m 29s\tremaining: 4m 36s\n",
            "258:\tlearn: 0.4480022\ttotal: 6m 31s\tremaining: 4m 35s\n",
            "259:\tlearn: 0.4479438\ttotal: 6m 33s\tremaining: 4m 33s\n",
            "260:\tlearn: 0.4478008\ttotal: 6m 35s\tremaining: 4m 32s\n",
            "261:\tlearn: 0.4477296\ttotal: 6m 36s\tremaining: 4m 31s\n",
            "262:\tlearn: 0.4476283\ttotal: 6m 38s\tremaining: 4m 29s\n",
            "263:\tlearn: 0.4475262\ttotal: 6m 39s\tremaining: 4m 27s\n",
            "264:\tlearn: 0.4474174\ttotal: 6m 40s\tremaining: 4m 26s\n",
            "265:\tlearn: 0.4473596\ttotal: 6m 41s\tremaining: 4m 24s\n",
            "266:\tlearn: 0.4472623\ttotal: 6m 43s\tremaining: 4m 22s\n",
            "267:\tlearn: 0.4471833\ttotal: 6m 44s\tremaining: 4m 21s\n",
            "268:\tlearn: 0.4470986\ttotal: 6m 45s\tremaining: 4m 19s\n",
            "269:\tlearn: 0.4470621\ttotal: 6m 47s\tremaining: 4m 18s\n",
            "270:\tlearn: 0.4469849\ttotal: 6m 49s\tremaining: 4m 17s\n",
            "271:\tlearn: 0.4469309\ttotal: 6m 51s\tremaining: 4m 15s\n",
            "272:\tlearn: 0.4468495\ttotal: 6m 52s\tremaining: 4m 13s\n",
            "273:\tlearn: 0.4467649\ttotal: 6m 53s\tremaining: 4m 12s\n",
            "274:\tlearn: 0.4466181\ttotal: 6m 55s\tremaining: 4m 10s\n",
            "275:\tlearn: 0.4465761\ttotal: 6m 56s\tremaining: 4m 8s\n",
            "276:\tlearn: 0.4464403\ttotal: 6m 57s\tremaining: 4m 7s\n",
            "277:\tlearn: 0.4463830\ttotal: 6m 58s\tremaining: 4m 5s\n",
            "278:\tlearn: 0.4463068\ttotal: 6m 59s\tremaining: 4m 3s\n",
            "279:\tlearn: 0.4461891\ttotal: 7m 1s\tremaining: 4m 2s\n",
            "280:\tlearn: 0.4461431\ttotal: 7m 3s\tremaining: 4m 1s\n",
            "281:\tlearn: 0.4461063\ttotal: 7m 5s\tremaining: 3m 59s\n",
            "282:\tlearn: 0.4460292\ttotal: 7m 6s\tremaining: 3m 58s\n",
            "283:\tlearn: 0.4459831\ttotal: 7m 8s\tremaining: 3m 56s\n",
            "284:\tlearn: 0.4459414\ttotal: 7m 9s\tremaining: 3m 55s\n",
            "285:\tlearn: 0.4458958\ttotal: 7m 10s\tremaining: 3m 53s\n",
            "286:\tlearn: 0.4458203\ttotal: 7m 11s\tremaining: 3m 51s\n",
            "287:\tlearn: 0.4457110\ttotal: 7m 12s\tremaining: 3m 49s\n",
            "288:\tlearn: 0.4455835\ttotal: 7m 13s\tremaining: 3m 48s\n",
            "289:\tlearn: 0.4454543\ttotal: 7m 14s\tremaining: 3m 46s\n",
            "290:\tlearn: 0.4453762\ttotal: 7m 16s\tremaining: 3m 44s\n",
            "291:\tlearn: 0.4453002\ttotal: 7m 18s\tremaining: 3m 43s\n",
            "292:\tlearn: 0.4452507\ttotal: 7m 20s\tremaining: 3m 42s\n",
            "293:\tlearn: 0.4451856\ttotal: 7m 22s\tremaining: 3m 41s\n",
            "294:\tlearn: 0.4451127\ttotal: 7m 23s\tremaining: 3m 39s\n",
            "295:\tlearn: 0.4450799\ttotal: 7m 24s\tremaining: 3m 37s\n",
            "296:\tlearn: 0.4450336\ttotal: 7m 25s\tremaining: 3m 36s\n",
            "297:\tlearn: 0.4449480\ttotal: 7m 27s\tremaining: 3m 34s\n",
            "298:\tlearn: 0.4448740\ttotal: 7m 28s\tremaining: 3m 33s\n",
            "299:\tlearn: 0.4448129\ttotal: 7m 29s\tremaining: 3m 31s\n",
            "300:\tlearn: 0.4447383\ttotal: 7m 31s\tremaining: 3m 29s\n",
            "301:\tlearn: 0.4446551\ttotal: 7m 33s\tremaining: 3m 28s\n",
            "302:\tlearn: 0.4446004\ttotal: 7m 35s\tremaining: 3m 27s\n",
            "303:\tlearn: 0.4445004\ttotal: 7m 37s\tremaining: 3m 26s\n",
            "304:\tlearn: 0.4444852\ttotal: 7m 38s\tremaining: 3m 24s\n",
            "305:\tlearn: 0.4444488\ttotal: 7m 39s\tremaining: 3m 22s\n",
            "306:\tlearn: 0.4443773\ttotal: 7m 41s\tremaining: 3m 21s\n",
            "307:\tlearn: 0.4443629\ttotal: 7m 42s\tremaining: 3m 19s\n",
            "308:\tlearn: 0.4443344\ttotal: 7m 43s\tremaining: 3m 17s\n",
            "309:\tlearn: 0.4442184\ttotal: 7m 44s\tremaining: 3m 16s\n",
            "310:\tlearn: 0.4441369\ttotal: 7m 45s\tremaining: 3m 14s\n",
            "311:\tlearn: 0.4441176\ttotal: 7m 46s\tremaining: 3m 13s\n",
            "312:\tlearn: 0.4440230\ttotal: 7m 49s\tremaining: 3m 11s\n",
            "313:\tlearn: 0.4439309\ttotal: 7m 51s\tremaining: 3m 10s\n",
            "314:\tlearn: 0.4438892\ttotal: 7m 53s\tremaining: 3m 9s\n",
            "315:\tlearn: 0.4438128\ttotal: 7m 54s\tremaining: 3m 7s\n",
            "316:\tlearn: 0.4437425\ttotal: 7m 55s\tremaining: 3m 6s\n",
            "317:\tlearn: 0.4436649\ttotal: 7m 57s\tremaining: 3m 4s\n",
            "318:\tlearn: 0.4436053\ttotal: 7m 58s\tremaining: 3m 2s\n",
            "319:\tlearn: 0.4435508\ttotal: 7m 59s\tremaining: 3m 1s\n",
            "320:\tlearn: 0.4435024\ttotal: 8m\tremaining: 2m 59s\n",
            "321:\tlearn: 0.4434474\ttotal: 8m 2s\tremaining: 2m 58s\n",
            "322:\tlearn: 0.4433617\ttotal: 8m 3s\tremaining: 2m 56s\n",
            "323:\tlearn: 0.4432858\ttotal: 8m 5s\tremaining: 2m 55s\n",
            "324:\tlearn: 0.4432486\ttotal: 8m 7s\tremaining: 2m 54s\n",
            "325:\tlearn: 0.4431916\ttotal: 8m 9s\tremaining: 2m 52s\n",
            "326:\tlearn: 0.4431680\ttotal: 8m 10s\tremaining: 2m 51s\n",
            "327:\tlearn: 0.4431313\ttotal: 8m 11s\tremaining: 2m 49s\n",
            "328:\tlearn: 0.4431113\ttotal: 8m 12s\tremaining: 2m 47s\n",
            "329:\tlearn: 0.4430705\ttotal: 8m 13s\tremaining: 2m 46s\n",
            "330:\tlearn: 0.4430180\ttotal: 8m 15s\tremaining: 2m 44s\n",
            "331:\tlearn: 0.4429860\ttotal: 8m 16s\tremaining: 2m 42s\n",
            "332:\tlearn: 0.4429332\ttotal: 8m 17s\tremaining: 2m 41s\n",
            "333:\tlearn: 0.4428492\ttotal: 8m 18s\tremaining: 2m 39s\n",
            "334:\tlearn: 0.4427840\ttotal: 8m 20s\tremaining: 2m 38s\n",
            "335:\tlearn: 0.4426682\ttotal: 8m 23s\tremaining: 2m 37s\n",
            "336:\tlearn: 0.4426304\ttotal: 8m 24s\tremaining: 2m 35s\n",
            "337:\tlearn: 0.4425558\ttotal: 8m 25s\tremaining: 2m 34s\n",
            "338:\tlearn: 0.4424860\ttotal: 8m 27s\tremaining: 2m 32s\n",
            "339:\tlearn: 0.4423628\ttotal: 8m 28s\tremaining: 2m 31s\n",
            "340:\tlearn: 0.4422948\ttotal: 8m 30s\tremaining: 2m 29s\n",
            "341:\tlearn: 0.4422335\ttotal: 8m 31s\tremaining: 2m 27s\n",
            "342:\tlearn: 0.4421678\ttotal: 8m 32s\tremaining: 2m 26s\n",
            "343:\tlearn: 0.4420899\ttotal: 8m 33s\tremaining: 2m 24s\n",
            "344:\tlearn: 0.4420729\ttotal: 8m 35s\tremaining: 2m 23s\n",
            "345:\tlearn: 0.4420133\ttotal: 8m 37s\tremaining: 2m 22s\n",
            "346:\tlearn: 0.4419373\ttotal: 8m 39s\tremaining: 2m 20s\n",
            "347:\tlearn: 0.4418961\ttotal: 8m 40s\tremaining: 2m 19s\n",
            "348:\tlearn: 0.4418559\ttotal: 8m 42s\tremaining: 2m 17s\n",
            "349:\tlearn: 0.4417976\ttotal: 8m 43s\tremaining: 2m 16s\n",
            "350:\tlearn: 0.4417314\ttotal: 8m 44s\tremaining: 2m 14s\n",
            "351:\tlearn: 0.4416924\ttotal: 8m 45s\tremaining: 2m 12s\n",
            "352:\tlearn: 0.4416435\ttotal: 8m 46s\tremaining: 2m 11s\n",
            "353:\tlearn: 0.4415936\ttotal: 8m 47s\tremaining: 2m 9s\n",
            "354:\tlearn: 0.4415367\ttotal: 8m 49s\tremaining: 2m 8s\n",
            "355:\tlearn: 0.4414574\ttotal: 8m 51s\tremaining: 2m 6s\n",
            "356:\tlearn: 0.4413671\ttotal: 8m 53s\tremaining: 2m 5s\n",
            "357:\tlearn: 0.4413310\ttotal: 8m 55s\tremaining: 2m 4s\n",
            "358:\tlearn: 0.4412736\ttotal: 8m 56s\tremaining: 2m 2s\n",
            "359:\tlearn: 0.4411928\ttotal: 8m 57s\tremaining: 2m 1s\n",
            "360:\tlearn: 0.4411029\ttotal: 8m 59s\tremaining: 1m 59s\n",
            "361:\tlearn: 0.4410728\ttotal: 9m\tremaining: 1m 57s\n",
            "362:\tlearn: 0.4410214\ttotal: 9m 1s\tremaining: 1m 56s\n",
            "363:\tlearn: 0.4409613\ttotal: 9m 2s\tremaining: 1m 54s\n",
            "364:\tlearn: 0.4408928\ttotal: 9m 4s\tremaining: 1m 53s\n",
            "365:\tlearn: 0.4408611\ttotal: 9m 5s\tremaining: 1m 51s\n",
            "366:\tlearn: 0.4407455\ttotal: 9m 7s\tremaining: 1m 50s\n",
            "367:\tlearn: 0.4406980\ttotal: 9m 10s\tremaining: 1m 49s\n",
            "368:\tlearn: 0.4406543\ttotal: 9m 11s\tremaining: 1m 47s\n",
            "369:\tlearn: 0.4406338\ttotal: 9m 12s\tremaining: 1m 45s\n",
            "370:\tlearn: 0.4406237\ttotal: 9m 13s\tremaining: 1m 44s\n",
            "371:\tlearn: 0.4405915\ttotal: 9m 14s\tremaining: 1m 42s\n",
            "372:\tlearn: 0.4405248\ttotal: 9m 15s\tremaining: 1m 41s\n",
            "373:\tlearn: 0.4404870\ttotal: 9m 16s\tremaining: 1m 39s\n",
            "374:\tlearn: 0.4404291\ttotal: 9m 17s\tremaining: 1m 38s\n",
            "375:\tlearn: 0.4404005\ttotal: 9m 19s\tremaining: 1m 36s\n",
            "376:\tlearn: 0.4403505\ttotal: 9m 20s\tremaining: 1m 35s\n",
            "377:\tlearn: 0.4402966\ttotal: 9m 22s\tremaining: 1m 33s\n",
            "378:\tlearn: 0.4402530\ttotal: 9m 24s\tremaining: 1m 32s\n",
            "379:\tlearn: 0.4402103\ttotal: 9m 26s\tremaining: 1m 30s\n",
            "380:\tlearn: 0.4401773\ttotal: 9m 27s\tremaining: 1m 29s\n",
            "381:\tlearn: 0.4401365\ttotal: 9m 28s\tremaining: 1m 27s\n",
            "382:\tlearn: 0.4400756\ttotal: 9m 29s\tremaining: 1m 26s\n",
            "383:\tlearn: 0.4400076\ttotal: 9m 31s\tremaining: 1m 24s\n",
            "384:\tlearn: 0.4399430\ttotal: 9m 32s\tremaining: 1m 23s\n",
            "385:\tlearn: 0.4398560\ttotal: 9m 33s\tremaining: 1m 21s\n",
            "386:\tlearn: 0.4397910\ttotal: 9m 34s\tremaining: 1m 20s\n",
            "387:\tlearn: 0.4397558\ttotal: 9m 36s\tremaining: 1m 18s\n",
            "388:\tlearn: 0.4397113\ttotal: 9m 39s\tremaining: 1m 17s\n",
            "389:\tlearn: 0.4396516\ttotal: 9m 41s\tremaining: 1m 15s\n",
            "390:\tlearn: 0.4395673\ttotal: 9m 42s\tremaining: 1m 14s\n",
            "391:\tlearn: 0.4395192\ttotal: 9m 43s\tremaining: 1m 12s\n",
            "392:\tlearn: 0.4394432\ttotal: 9m 45s\tremaining: 1m 11s\n",
            "393:\tlearn: 0.4394007\ttotal: 9m 46s\tremaining: 1m 9s\n",
            "394:\tlearn: 0.4393162\ttotal: 9m 47s\tremaining: 1m 8s\n",
            "395:\tlearn: 0.4392763\ttotal: 9m 48s\tremaining: 1m 6s\n",
            "396:\tlearn: 0.4392322\ttotal: 9m 49s\tremaining: 1m 5s\n",
            "397:\tlearn: 0.4391787\ttotal: 9m 51s\tremaining: 1m 3s\n",
            "398:\tlearn: 0.4391405\ttotal: 9m 53s\tremaining: 1m 2s\n",
            "399:\tlearn: 0.4390835\ttotal: 9m 55s\tremaining: 1m 1s\n",
            "400:\tlearn: 0.4390022\ttotal: 9m 57s\tremaining: 59.6s\n",
            "401:\tlearn: 0.4389455\ttotal: 9m 58s\tremaining: 58s\n",
            "402:\tlearn: 0.4388758\ttotal: 9m 59s\tremaining: 56.5s\n",
            "403:\tlearn: 0.4388141\ttotal: 10m\tremaining: 55s\n",
            "404:\tlearn: 0.4387525\ttotal: 10m 1s\tremaining: 53.5s\n",
            "405:\tlearn: 0.4386924\ttotal: 10m 3s\tremaining: 52s\n",
            "406:\tlearn: 0.4386590\ttotal: 10m 4s\tremaining: 50.5s\n",
            "407:\tlearn: 0.4385914\ttotal: 10m 5s\tremaining: 49s\n",
            "408:\tlearn: 0.4385652\ttotal: 10m 6s\tremaining: 47.5s\n",
            "409:\tlearn: 0.4385429\ttotal: 10m 8s\tremaining: 46s\n",
            "410:\tlearn: 0.4385255\ttotal: 10m 11s\tremaining: 44.6s\n",
            "411:\tlearn: 0.4384647\ttotal: 10m 12s\tremaining: 43.1s\n",
            "412:\tlearn: 0.4383997\ttotal: 10m 14s\tremaining: 41.6s\n",
            "413:\tlearn: 0.4383631\ttotal: 10m 15s\tremaining: 40.1s\n",
            "414:\tlearn: 0.4383129\ttotal: 10m 16s\tremaining: 38.6s\n",
            "415:\tlearn: 0.4382799\ttotal: 10m 17s\tremaining: 37.1s\n",
            "416:\tlearn: 0.4382396\ttotal: 10m 18s\tremaining: 35.6s\n",
            "417:\tlearn: 0.4381959\ttotal: 10m 20s\tremaining: 34.1s\n",
            "418:\tlearn: 0.4381264\ttotal: 10m 21s\tremaining: 32.6s\n",
            "419:\tlearn: 0.4380716\ttotal: 10m 23s\tremaining: 31.2s\n",
            "420:\tlearn: 0.4380340\ttotal: 10m 25s\tremaining: 29.7s\n",
            "421:\tlearn: 0.4379754\ttotal: 10m 27s\tremaining: 28.3s\n",
            "422:\tlearn: 0.4379372\ttotal: 10m 28s\tremaining: 26.8s\n",
            "423:\tlearn: 0.4378861\ttotal: 10m 29s\tremaining: 25.3s\n",
            "424:\tlearn: 0.4378350\ttotal: 10m 31s\tremaining: 23.8s\n",
            "425:\tlearn: 0.4377655\ttotal: 10m 32s\tremaining: 22.3s\n",
            "426:\tlearn: 0.4377110\ttotal: 10m 33s\tremaining: 20.8s\n",
            "427:\tlearn: 0.4376907\ttotal: 10m 34s\tremaining: 19.3s\n",
            "428:\tlearn: 0.4376170\ttotal: 10m 35s\tremaining: 17.8s\n",
            "429:\tlearn: 0.4375738\ttotal: 10m 36s\tremaining: 16.3s\n",
            "430:\tlearn: 0.4375089\ttotal: 10m 38s\tremaining: 14.8s\n",
            "431:\tlearn: 0.4374670\ttotal: 10m 40s\tremaining: 13.4s\n",
            "432:\tlearn: 0.4374160\ttotal: 10m 42s\tremaining: 11.9s\n",
            "433:\tlearn: 0.4373343\ttotal: 10m 44s\tremaining: 10.4s\n",
            "434:\tlearn: 0.4373207\ttotal: 10m 45s\tremaining: 8.9s\n",
            "435:\tlearn: 0.4372639\ttotal: 10m 46s\tremaining: 7.42s\n",
            "436:\tlearn: 0.4371692\ttotal: 10m 48s\tremaining: 5.93s\n",
            "437:\tlearn: 0.4371155\ttotal: 10m 49s\tremaining: 4.45s\n",
            "438:\tlearn: 0.4370440\ttotal: 10m 50s\tremaining: 2.96s\n",
            "439:\tlearn: 0.4369911\ttotal: 10m 51s\tremaining: 1.48s\n",
            "440:\tlearn: 0.4369349\ttotal: 10m 53s\tremaining: 0us\n"
          ]
        },
        {
          "output_type": "execute_result",
          "data": {
            "text/plain": [
              "<catboost.core.CatBoostClassifier at 0x7f22f46e3bd0>"
            ]
          },
          "metadata": {},
          "execution_count": 34
        }
      ]
    },
    {
      "cell_type": "markdown",
      "source": [
        "получаю результат точных предсказаний"
      ],
      "metadata": {
        "id": "rJuebRSSBUdR"
      }
    },
    {
      "cell_type": "code",
      "source": [
        "ctb.score(X_test, y_test)"
      ],
      "metadata": {
        "colab": {
          "base_uri": "https://localhost:8080/"
        },
        "id": "73-SVjwWBTwa",
        "outputId": "425255dd-e64e-44cc-bf04-979a476c52f7"
      },
      "execution_count": 36,
      "outputs": [
        {
          "output_type": "execute_result",
          "data": {
            "text/plain": [
              "np.float64(0.8073957991052246)"
            ]
          },
          "metadata": {},
          "execution_count": 36
        }
      ]
    },
    {
      "cell_type": "code",
      "source": [
        "f1_score(ctb.predict(X_test), y_test)"
      ],
      "metadata": {
        "colab": {
          "base_uri": "https://localhost:8080/"
        },
        "id": "O45pkicmWQpV",
        "outputId": "ebcaeb0f-12cf-4208-f356-818d92614d76"
      },
      "execution_count": 50,
      "outputs": [
        {
          "output_type": "execute_result",
          "data": {
            "text/plain": [
              "0.8005583667771767"
            ]
          },
          "metadata": {},
          "execution_count": 50
        }
      ]
    },
    {
      "cell_type": "code",
      "source": [
        "roc_auc_score(ctb.predict(X_test), y_test)"
      ],
      "metadata": {
        "colab": {
          "base_uri": "https://localhost:8080/"
        },
        "id": "z2R8CrVnWePI",
        "outputId": "4649db34-ae3d-4ff2-9450-24a095ea19cb"
      },
      "execution_count": 53,
      "outputs": [
        {
          "output_type": "execute_result",
          "data": {
            "text/plain": [
              "np.float64(0.8070870100992539)"
            ]
          },
          "metadata": {},
          "execution_count": 53
        }
      ]
    },
    {
      "cell_type": "markdown",
      "source": [
        "---"
      ],
      "metadata": {
        "id": "zhQFiBjrB5bA"
      }
    },
    {
      "cell_type": "markdown",
      "source": [
        "## Predict"
      ],
      "metadata": {
        "id": "PY70O4bfB-P4"
      }
    },
    {
      "cell_type": "code",
      "source": [
        "test = pd.read_csv('/content/drive/MyDrive/Colab Notebooks/vk_predict_sex/test.csv', sep=';')\n",
        "test_users = pd.read_csv('/content/drive/MyDrive/Colab Notebooks/vk_predict_sex/test_users.csv', sep=';')"
      ],
      "metadata": {
        "id": "5D6rklwKB5uc"
      },
      "execution_count": 32,
      "outputs": []
    },
    {
      "cell_type": "markdown",
      "source": [
        "в таблице test в столбце user_agent данные точно также \"закрыты\", поэтому их открываю точно также"
      ],
      "metadata": {
        "id": "elcA29BeCIIr"
      }
    },
    {
      "cell_type": "code",
      "source": [
        "test = user_agent_opener(test)"
      ],
      "metadata": {
        "id": "WtQoXbCxCVhy"
      },
      "execution_count": 33,
      "outputs": []
    },
    {
      "cell_type": "markdown",
      "source": [
        "обьеденим test с geo_info и referer_vectors"
      ],
      "metadata": {
        "id": "jhf3N9jyCdPK"
      }
    },
    {
      "cell_type": "code",
      "source": [
        "pred_data = merger(test, geo_info, referer_vectors)"
      ],
      "metadata": {
        "id": "oHtjrc0HCmJ4"
      },
      "execution_count": 38,
      "outputs": []
    },
    {
      "cell_type": "markdown",
      "source": [
        "оставляем все необходимое"
      ],
      "metadata": {
        "id": "KYFZrX7DDF_w"
      }
    },
    {
      "cell_type": "code",
      "source": [
        "pred_data = pred_data[['user_id'] + num_cols + cat_cols]"
      ],
      "metadata": {
        "id": "m4nl8RZ0DIfX"
      },
      "execution_count": 40,
      "outputs": []
    },
    {
      "cell_type": "markdown",
      "source": [
        "далее делаем предикт"
      ],
      "metadata": {
        "id": "Qht0ItY-DO3H"
      }
    },
    {
      "cell_type": "code",
      "source": [
        "Xt = pred_data.drop('user_id', axis=1)\n",
        "yt = ctb.predict(Xt)"
      ],
      "metadata": {
        "id": "rc3IK_g0DQHy"
      },
      "execution_count": 41,
      "outputs": []
    },
    {
      "cell_type": "markdown",
      "source": [
        "в таблице train в столбце user_id были дубликаты, и могло случится так, что один пользователь является и мужчиной и женщиной.\n",
        "\n",
        "я решил использовать моду, чтобы определить, кем является наш пользователь"
      ],
      "metadata": {
        "id": "fvk7orSgDWri"
      }
    },
    {
      "cell_type": "code",
      "source": [
        "pred_data['predicted_target'] = yt\n",
        "tt = pred_data.groupby('user_id')['predicted_target'].agg(lambda x: x.mode()[0]).reset_index()"
      ],
      "metadata": {
        "id": "p1r8EYwVD0lP"
      },
      "execution_count": 42,
      "outputs": []
    },
    {
      "cell_type": "markdown",
      "source": [
        "далее сопоставляем значения"
      ],
      "metadata": {
        "id": "LvwvHh4qELI-"
      }
    },
    {
      "cell_type": "code",
      "source": [
        "test_users = test_users.merge(tt, on='user_id', how='left')"
      ],
      "metadata": {
        "id": "nujYDdc4EN2A"
      },
      "execution_count": 44,
      "outputs": []
    },
    {
      "cell_type": "markdown",
      "source": [
        "и сохраняем в csv-файл"
      ],
      "metadata": {
        "id": "xTjDM1d3FA_o"
      }
    },
    {
      "cell_type": "code",
      "source": [
        "test_users.to_csv('predicted_users.csv', index=False)"
      ],
      "metadata": {
        "id": "WMiK-DMHFDh6"
      },
      "execution_count": 45,
      "outputs": []
    },
    {
      "cell_type": "markdown",
      "source": [
        "сохраняем модель"
      ],
      "metadata": {
        "id": "5zoTNWstN2c-"
      }
    },
    {
      "cell_type": "code",
      "source": [
        "import pickle\n",
        "\n",
        "with open('predict_sex_model.pkl', 'wb') as f:\n",
        "  pickle.dump(ctb, f)"
      ],
      "metadata": {
        "id": "Ysor9vdMNJFV"
      },
      "execution_count": 48,
      "outputs": []
    }
  ]
}